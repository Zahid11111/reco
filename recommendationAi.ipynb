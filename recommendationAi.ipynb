{
 "cells": [
  {
   "cell_type": "code",
   "execution_count": 2,
   "id": "be98f301-b2ae-4b47-b056-7b21745a9639",
   "metadata": {},
   "outputs": [
    {
     "name": "stdout",
     "output_type": "stream",
     "text": [
      " * Serving Flask app '__main__'\n",
      " * Debug mode: on\n"
     ]
    },
    {
     "name": "stderr",
     "output_type": "stream",
     "text": [
      "WARNING: This is a development server. Do not use it in a production deployment. Use a production WSGI server instead.\n",
      " * Running on http://127.0.0.1:5000\n",
      "Press CTRL+C to quit\n",
      " * Restarting with stat\n"
     ]
    },
    {
     "ename": "SystemExit",
     "evalue": "1",
     "output_type": "error",
     "traceback": [
      "An exception has occurred, use %tb to see the full traceback.\n",
      "\u001b[1;31mSystemExit\u001b[0m\u001b[1;31m:\u001b[0m 1\n"
     ]
    }
   ],
   "source": [
    "import os\n",
    "import re\n",
    "import pickle\n",
    "import numpy as np\n",
    "import pandas as pd\n",
    "from flask import Flask, request, render_template\n",
    "from sklearn.feature_extraction.text import TfidfVectorizer\n",
    "from tensorflow.keras.models import load_model\n",
    "\n",
    "\n",
    "# Initialize Flask app\n",
    "app = Flask(__name__)\n",
    "\n",
    "# Preprocessing the dataset\n",
    "def preprocess_data(data):\n",
    "    features = [\n",
    "        'category', 'tags', 'location', 'cuisine_type', 'attraction_type',\n",
    "        'family_friendly', 'star_rating', 'best_time_to_visit', 'wheelchair_accessible', 'amenities'\n",
    "    ]\n",
    "\n",
    "    # Combine features into a single text column\n",
    "    data['combined_features'] = data[features].fillna('').apply(\n",
    "        lambda x: ' '.join(x.map(str).str.lower().map(lambda s: re.sub(r'\\W+', ' ', s))),\n",
    "        axis=1\n",
    "    )\n",
    "    return data\n",
    "\n",
    "\n",
    "# Load TF-IDF vectorizer\n",
    "def load_vectorizer():\n",
    "    with open('vectorizer.pkl', 'rb') as f:\n",
    "        return pickle.load(f)\n",
    "\n",
    "\n",
    "# Recommendation function\n",
    "def recommend_with_ann(input_text, data, model, vectorizer, top_n=10):\n",
    "    input_vec = vectorizer.transform([input_text]).todense()\n",
    "    numerical_data = data[['rating', 'reviews_count', 'popularity_score']].fillna(0).to_numpy()\n",
    "    input_vec_repeated = np.repeat(input_vec, numerical_data.shape[0], axis=0)\n",
    "    combined_input = np.hstack([input_vec_repeated, numerical_data])\n",
    "    predictions = model.predict(combined_input)\n",
    "    data['score'] = predictions.flatten()\n",
    "    recommendations = data.sort_values(by='score', ascending=False).head(top_n)\n",
    "    return recommendations\n",
    "\n",
    "\n",
    "# Flask route to handle form submission\n",
    "@app.route('/', methods=['GET', 'POST'])\n",
    "def home():\n",
    "    if request.method == 'POST':\n",
    "        # Load dataset and preprocess\n",
    "        data = pd.read_csv('mauritiusDataset.csv')  # Ensure this path is correct\n",
    "        data = preprocess_data(data)\n",
    "\n",
    "        # Load vectorizer and model\n",
    "        vectorizer = load_vectorizer()\n",
    "        model = load_model('ann_model_improved.keras')\n",
    "\n",
    "        # Get form inputs\n",
    "        tags = request.form.get('tags', '').strip().lower()\n",
    "        category = request.form.get('category', '').strip().lower()\n",
    "        cuisine_type = request.form.get('cuisine_type', '').strip().lower()\n",
    "        amenities = request.form.get('amenities', '').strip().lower()\n",
    "        wheelchair = request.form.get('wheelchair', 'no').strip().lower()\n",
    "        rating = float(request.form.get('rating', 0))\n",
    "\n",
    "        # Combine input text for TF-IDF\n",
    "        input_text = f\"{tags} {category} {cuisine_type} {amenities}\"\n",
    "\n",
    "        # Filter data for the input rating\n",
    "        filtered_data = data[data['rating'] >= rating]\n",
    "\n",
    "        # Filter for wheelchair accessibility if required\n",
    "        if wheelchair == 'yes':\n",
    "            filtered_data = filtered_data[filtered_data['wheelchair_accessible'].str.contains('yes', case=False, na=False)]\n",
    "\n",
    "        # Check if there is data to recommend\n",
    "        if filtered_data.empty:\n",
    "            return render_template('index.html', recommendations=None, error=\"No recommendations found.\")\n",
    "\n",
    "        # Generate recommendations\n",
    "        recommendations = recommend_with_ann(input_text, filtered_data, model, vectorizer)\n",
    "\n",
    "        # Columns to display in the table\n",
    "        display_columns = ['name', 'category', 'rating', 'address', 'imageUrls', 'latitude', 'longitude', 'url', 'popularity_score']\n",
    "        recommendations = recommendations[display_columns]\n",
    "\n",
    "        # Pass recommendations to the template\n",
    "        return render_template('index.html', recommendations=recommendations.to_dict(orient='records'))\n",
    "\n",
    "    return render_template('index.html', recommendations=None)\n",
    "\n",
    "\n",
    "if __name__ == '__main__':\n",
    "    app.run(debug=True)\n"
   ]
  },
  {
   "cell_type": "code",
   "execution_count": null,
   "id": "fde797a9-7f52-49d3-9713-784b0132cf8b",
   "metadata": {},
   "outputs": [],
   "source": []
  }
 ],
 "metadata": {
  "kernelspec": {
   "display_name": "Python 3",
   "language": "python",
   "name": "python3"
  },
  "language_info": {
   "codemirror_mode": {
    "name": "ipython",
    "version": 3
   },
   "file_extension": ".py",
   "mimetype": "text/x-python",
   "name": "python",
   "nbconvert_exporter": "python",
   "pygments_lexer": "ipython3",
   "version": "3.12.2"
  }
 },
 "nbformat": 4,
 "nbformat_minor": 5
}
